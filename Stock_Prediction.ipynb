{
  "nbformat": 4,
  "nbformat_minor": 0,
  "metadata": {
    "colab": {
      "provenance": [],
      "toc_visible": true
    },
    "kernelspec": {
      "name": "python3",
      "display_name": "Python 3"
    },
    "language_info": {
      "name": "python"
    }
  },
  "cells": [
    {
      "cell_type": "code",
      "execution_count": null,
      "metadata": {
        "id": "2pYUqVIFg-bb"
      },
      "outputs": [],
      "source": [
        "#Installing dependencies\n",
        "import os\n",
        "import numpy as np\n",
        "import pandas as pd\n",
        "import tensorflow as tf\n",
        "import yfinance as yf\n",
        "from sklearn.preprocessing import MinMaxScaler\n",
        "import matplotlib.pyplot as plt\n",
        "%matplotlib inline"
      ]
    },
    {
      "cell_type": "code",
      "source": [
        "#See the yahoo finance ticker for your stock symbol\n",
        "stock_symbol = input()"
      ],
      "metadata": {
        "id": "zdRybli1hK3T",
        "colab": {
          "base_uri": "https://localhost:8080/"
        },
        "outputId": "e0121406-0e6a-4457-b8bc-53d2d90abbf4"
      },
      "execution_count": null,
      "outputs": [
        {
          "name": "stdout",
          "output_type": "stream",
          "text": [
            "GOOG\n"
          ]
        }
      ]
    },
    {
      "cell_type": "code",
      "source": [
        "#last 5 years data with interval of 1 day\n",
        "data = yf.download(tickers=stock_symbol,period='5y',interval='1d')"
      ],
      "metadata": {
        "id": "fgl8PNNNhUBc",
        "colab": {
          "base_uri": "https://localhost:8080/"
        },
        "outputId": "8e40cae7-c7fb-4642-908e-8913e5ff4c43"
      },
      "execution_count": null,
      "outputs": [
        {
          "output_type": "stream",
          "name": "stdout",
          "text": [
            "\r[*********************100%***********************]  1 of 1 completed\n"
          ]
        }
      ]
    },
    {
      "cell_type": "code",
      "source": [
        "type(data)"
      ],
      "metadata": {
        "id": "zs9v5BXgvqVc",
        "colab": {
          "base_uri": "https://localhost:8080/"
        },
        "outputId": "56a77ec0-9645-4a84-cd59-0d61705ca353"
      },
      "execution_count": null,
      "outputs": [
        {
          "output_type": "execute_result",
          "data": {
            "text/plain": [
              "pandas.core.frame.DataFrame"
            ]
          },
          "metadata": {},
          "execution_count": 5
        }
      ]
    },
    {
      "cell_type": "code",
      "source": [
        "data.head()"
      ],
      "metadata": {
        "id": "slw5Pj4Vv5Oo",
        "colab": {
          "base_uri": "https://localhost:8080/",
          "height": 237
        },
        "outputId": "eb212ac0-170e-44c7-84bd-b6cd67a03b56"
      },
      "execution_count": null,
      "outputs": [
        {
          "output_type": "execute_result",
          "data": {
            "text/plain": [
              "                 Open       High        Low      Close  Adj Close    Volume\n",
              "Date                                                                       \n",
              "2018-06-27  56.067001  56.591801  55.181000  55.199001  55.199001  25878000\n",
              "2018-06-28  55.104500  56.115501  54.800499  55.710999  55.710999  21448000\n",
              "2018-06-29  56.000000  56.411350  55.750000  55.782501  55.782501  26302000\n",
              "2018-07-02  54.950001  56.400002  54.689999  56.373001  56.373001  24346000\n",
              "2018-07-03  56.791000  56.791000  55.000999  55.144501  55.144501  13580000"
            ],
            "text/html": [
              "\n",
              "  <div id=\"df-55e8838f-f606-40c2-8dd6-3f45af1ae40b\">\n",
              "    <div class=\"colab-df-container\">\n",
              "      <div>\n",
              "<style scoped>\n",
              "    .dataframe tbody tr th:only-of-type {\n",
              "        vertical-align: middle;\n",
              "    }\n",
              "\n",
              "    .dataframe tbody tr th {\n",
              "        vertical-align: top;\n",
              "    }\n",
              "\n",
              "    .dataframe thead th {\n",
              "        text-align: right;\n",
              "    }\n",
              "</style>\n",
              "<table border=\"1\" class=\"dataframe\">\n",
              "  <thead>\n",
              "    <tr style=\"text-align: right;\">\n",
              "      <th></th>\n",
              "      <th>Open</th>\n",
              "      <th>High</th>\n",
              "      <th>Low</th>\n",
              "      <th>Close</th>\n",
              "      <th>Adj Close</th>\n",
              "      <th>Volume</th>\n",
              "    </tr>\n",
              "    <tr>\n",
              "      <th>Date</th>\n",
              "      <th></th>\n",
              "      <th></th>\n",
              "      <th></th>\n",
              "      <th></th>\n",
              "      <th></th>\n",
              "      <th></th>\n",
              "    </tr>\n",
              "  </thead>\n",
              "  <tbody>\n",
              "    <tr>\n",
              "      <th>2018-06-27</th>\n",
              "      <td>56.067001</td>\n",
              "      <td>56.591801</td>\n",
              "      <td>55.181000</td>\n",
              "      <td>55.199001</td>\n",
              "      <td>55.199001</td>\n",
              "      <td>25878000</td>\n",
              "    </tr>\n",
              "    <tr>\n",
              "      <th>2018-06-28</th>\n",
              "      <td>55.104500</td>\n",
              "      <td>56.115501</td>\n",
              "      <td>54.800499</td>\n",
              "      <td>55.710999</td>\n",
              "      <td>55.710999</td>\n",
              "      <td>21448000</td>\n",
              "    </tr>\n",
              "    <tr>\n",
              "      <th>2018-06-29</th>\n",
              "      <td>56.000000</td>\n",
              "      <td>56.411350</td>\n",
              "      <td>55.750000</td>\n",
              "      <td>55.782501</td>\n",
              "      <td>55.782501</td>\n",
              "      <td>26302000</td>\n",
              "    </tr>\n",
              "    <tr>\n",
              "      <th>2018-07-02</th>\n",
              "      <td>54.950001</td>\n",
              "      <td>56.400002</td>\n",
              "      <td>54.689999</td>\n",
              "      <td>56.373001</td>\n",
              "      <td>56.373001</td>\n",
              "      <td>24346000</td>\n",
              "    </tr>\n",
              "    <tr>\n",
              "      <th>2018-07-03</th>\n",
              "      <td>56.791000</td>\n",
              "      <td>56.791000</td>\n",
              "      <td>55.000999</td>\n",
              "      <td>55.144501</td>\n",
              "      <td>55.144501</td>\n",
              "      <td>13580000</td>\n",
              "    </tr>\n",
              "  </tbody>\n",
              "</table>\n",
              "</div>\n",
              "      <button class=\"colab-df-convert\" onclick=\"convertToInteractive('df-55e8838f-f606-40c2-8dd6-3f45af1ae40b')\"\n",
              "              title=\"Convert this dataframe to an interactive table.\"\n",
              "              style=\"display:none;\">\n",
              "        \n",
              "  <svg xmlns=\"http://www.w3.org/2000/svg\" height=\"24px\"viewBox=\"0 0 24 24\"\n",
              "       width=\"24px\">\n",
              "    <path d=\"M0 0h24v24H0V0z\" fill=\"none\"/>\n",
              "    <path d=\"M18.56 5.44l.94 2.06.94-2.06 2.06-.94-2.06-.94-.94-2.06-.94 2.06-2.06.94zm-11 1L8.5 8.5l.94-2.06 2.06-.94-2.06-.94L8.5 2.5l-.94 2.06-2.06.94zm10 10l.94 2.06.94-2.06 2.06-.94-2.06-.94-.94-2.06-.94 2.06-2.06.94z\"/><path d=\"M17.41 7.96l-1.37-1.37c-.4-.4-.92-.59-1.43-.59-.52 0-1.04.2-1.43.59L10.3 9.45l-7.72 7.72c-.78.78-.78 2.05 0 2.83L4 21.41c.39.39.9.59 1.41.59.51 0 1.02-.2 1.41-.59l7.78-7.78 2.81-2.81c.8-.78.8-2.07 0-2.86zM5.41 20L4 18.59l7.72-7.72 1.47 1.35L5.41 20z\"/>\n",
              "  </svg>\n",
              "      </button>\n",
              "      \n",
              "  <style>\n",
              "    .colab-df-container {\n",
              "      display:flex;\n",
              "      flex-wrap:wrap;\n",
              "      gap: 12px;\n",
              "    }\n",
              "\n",
              "    .colab-df-convert {\n",
              "      background-color: #E8F0FE;\n",
              "      border: none;\n",
              "      border-radius: 50%;\n",
              "      cursor: pointer;\n",
              "      display: none;\n",
              "      fill: #1967D2;\n",
              "      height: 32px;\n",
              "      padding: 0 0 0 0;\n",
              "      width: 32px;\n",
              "    }\n",
              "\n",
              "    .colab-df-convert:hover {\n",
              "      background-color: #E2EBFA;\n",
              "      box-shadow: 0px 1px 2px rgba(60, 64, 67, 0.3), 0px 1px 3px 1px rgba(60, 64, 67, 0.15);\n",
              "      fill: #174EA6;\n",
              "    }\n",
              "\n",
              "    [theme=dark] .colab-df-convert {\n",
              "      background-color: #3B4455;\n",
              "      fill: #D2E3FC;\n",
              "    }\n",
              "\n",
              "    [theme=dark] .colab-df-convert:hover {\n",
              "      background-color: #434B5C;\n",
              "      box-shadow: 0px 1px 3px 1px rgba(0, 0, 0, 0.15);\n",
              "      filter: drop-shadow(0px 1px 2px rgba(0, 0, 0, 0.3));\n",
              "      fill: #FFFFFF;\n",
              "    }\n",
              "  </style>\n",
              "\n",
              "      <script>\n",
              "        const buttonEl =\n",
              "          document.querySelector('#df-55e8838f-f606-40c2-8dd6-3f45af1ae40b button.colab-df-convert');\n",
              "        buttonEl.style.display =\n",
              "          google.colab.kernel.accessAllowed ? 'block' : 'none';\n",
              "\n",
              "        async function convertToInteractive(key) {\n",
              "          const element = document.querySelector('#df-55e8838f-f606-40c2-8dd6-3f45af1ae40b');\n",
              "          const dataTable =\n",
              "            await google.colab.kernel.invokeFunction('convertToInteractive',\n",
              "                                                     [key], {});\n",
              "          if (!dataTable) return;\n",
              "\n",
              "          const docLinkHtml = 'Like what you see? Visit the ' +\n",
              "            '<a target=\"_blank\" href=https://colab.research.google.com/notebooks/data_table.ipynb>data table notebook</a>'\n",
              "            + ' to learn more about interactive tables.';\n",
              "          element.innerHTML = '';\n",
              "          dataTable['output_type'] = 'display_data';\n",
              "          await google.colab.output.renderOutput(dataTable, element);\n",
              "          const docLink = document.createElement('div');\n",
              "          docLink.innerHTML = docLinkHtml;\n",
              "          element.appendChild(docLink);\n",
              "        }\n",
              "      </script>\n",
              "    </div>\n",
              "  </div>\n",
              "  "
            ]
          },
          "metadata": {},
          "execution_count": 6
        }
      ]
    },
    {
      "cell_type": "code",
      "source": [
        "data.tail()"
      ],
      "metadata": {
        "id": "PKEcp3FUv_n7",
        "colab": {
          "base_uri": "https://localhost:8080/",
          "height": 237
        },
        "outputId": "25b4f1f4-e2a7-4001-9f67-115aa496d867"
      },
      "execution_count": null,
      "outputs": [
        {
          "output_type": "execute_result",
          "data": {
            "text/plain": [
              "                  Open        High         Low       Close   Adj Close  \\\n",
              "Date                                                                     \n",
              "2023-06-21  123.235001  123.410004  120.860001  121.260002  121.260002   \n",
              "2023-06-22  120.660004  123.934998  119.599998  123.870003  123.870003   \n",
              "2023-06-23  122.040001  123.440002  121.860001  123.019997  123.019997   \n",
              "2023-06-26  121.466003  122.720001  118.989998  119.089996  119.089996   \n",
              "2023-06-27  117.839996  119.230003  116.910004  118.885002  118.885002   \n",
              "\n",
              "              Volume  \n",
              "Date                  \n",
              "2023-06-21  22612000  \n",
              "2023-06-22  20781900  \n",
              "2023-06-23  29542900  \n",
              "2023-06-26  23135600  \n",
              "2023-06-27  12637167  "
            ],
            "text/html": [
              "\n",
              "  <div id=\"df-171ab450-733d-442e-9b54-d75886fcea22\">\n",
              "    <div class=\"colab-df-container\">\n",
              "      <div>\n",
              "<style scoped>\n",
              "    .dataframe tbody tr th:only-of-type {\n",
              "        vertical-align: middle;\n",
              "    }\n",
              "\n",
              "    .dataframe tbody tr th {\n",
              "        vertical-align: top;\n",
              "    }\n",
              "\n",
              "    .dataframe thead th {\n",
              "        text-align: right;\n",
              "    }\n",
              "</style>\n",
              "<table border=\"1\" class=\"dataframe\">\n",
              "  <thead>\n",
              "    <tr style=\"text-align: right;\">\n",
              "      <th></th>\n",
              "      <th>Open</th>\n",
              "      <th>High</th>\n",
              "      <th>Low</th>\n",
              "      <th>Close</th>\n",
              "      <th>Adj Close</th>\n",
              "      <th>Volume</th>\n",
              "    </tr>\n",
              "    <tr>\n",
              "      <th>Date</th>\n",
              "      <th></th>\n",
              "      <th></th>\n",
              "      <th></th>\n",
              "      <th></th>\n",
              "      <th></th>\n",
              "      <th></th>\n",
              "    </tr>\n",
              "  </thead>\n",
              "  <tbody>\n",
              "    <tr>\n",
              "      <th>2023-06-21</th>\n",
              "      <td>123.235001</td>\n",
              "      <td>123.410004</td>\n",
              "      <td>120.860001</td>\n",
              "      <td>121.260002</td>\n",
              "      <td>121.260002</td>\n",
              "      <td>22612000</td>\n",
              "    </tr>\n",
              "    <tr>\n",
              "      <th>2023-06-22</th>\n",
              "      <td>120.660004</td>\n",
              "      <td>123.934998</td>\n",
              "      <td>119.599998</td>\n",
              "      <td>123.870003</td>\n",
              "      <td>123.870003</td>\n",
              "      <td>20781900</td>\n",
              "    </tr>\n",
              "    <tr>\n",
              "      <th>2023-06-23</th>\n",
              "      <td>122.040001</td>\n",
              "      <td>123.440002</td>\n",
              "      <td>121.860001</td>\n",
              "      <td>123.019997</td>\n",
              "      <td>123.019997</td>\n",
              "      <td>29542900</td>\n",
              "    </tr>\n",
              "    <tr>\n",
              "      <th>2023-06-26</th>\n",
              "      <td>121.466003</td>\n",
              "      <td>122.720001</td>\n",
              "      <td>118.989998</td>\n",
              "      <td>119.089996</td>\n",
              "      <td>119.089996</td>\n",
              "      <td>23135600</td>\n",
              "    </tr>\n",
              "    <tr>\n",
              "      <th>2023-06-27</th>\n",
              "      <td>117.839996</td>\n",
              "      <td>119.230003</td>\n",
              "      <td>116.910004</td>\n",
              "      <td>118.885002</td>\n",
              "      <td>118.885002</td>\n",
              "      <td>12637167</td>\n",
              "    </tr>\n",
              "  </tbody>\n",
              "</table>\n",
              "</div>\n",
              "      <button class=\"colab-df-convert\" onclick=\"convertToInteractive('df-171ab450-733d-442e-9b54-d75886fcea22')\"\n",
              "              title=\"Convert this dataframe to an interactive table.\"\n",
              "              style=\"display:none;\">\n",
              "        \n",
              "  <svg xmlns=\"http://www.w3.org/2000/svg\" height=\"24px\"viewBox=\"0 0 24 24\"\n",
              "       width=\"24px\">\n",
              "    <path d=\"M0 0h24v24H0V0z\" fill=\"none\"/>\n",
              "    <path d=\"M18.56 5.44l.94 2.06.94-2.06 2.06-.94-2.06-.94-.94-2.06-.94 2.06-2.06.94zm-11 1L8.5 8.5l.94-2.06 2.06-.94-2.06-.94L8.5 2.5l-.94 2.06-2.06.94zm10 10l.94 2.06.94-2.06 2.06-.94-2.06-.94-.94-2.06-.94 2.06-2.06.94z\"/><path d=\"M17.41 7.96l-1.37-1.37c-.4-.4-.92-.59-1.43-.59-.52 0-1.04.2-1.43.59L10.3 9.45l-7.72 7.72c-.78.78-.78 2.05 0 2.83L4 21.41c.39.39.9.59 1.41.59.51 0 1.02-.2 1.41-.59l7.78-7.78 2.81-2.81c.8-.78.8-2.07 0-2.86zM5.41 20L4 18.59l7.72-7.72 1.47 1.35L5.41 20z\"/>\n",
              "  </svg>\n",
              "      </button>\n",
              "      \n",
              "  <style>\n",
              "    .colab-df-container {\n",
              "      display:flex;\n",
              "      flex-wrap:wrap;\n",
              "      gap: 12px;\n",
              "    }\n",
              "\n",
              "    .colab-df-convert {\n",
              "      background-color: #E8F0FE;\n",
              "      border: none;\n",
              "      border-radius: 50%;\n",
              "      cursor: pointer;\n",
              "      display: none;\n",
              "      fill: #1967D2;\n",
              "      height: 32px;\n",
              "      padding: 0 0 0 0;\n",
              "      width: 32px;\n",
              "    }\n",
              "\n",
              "    .colab-df-convert:hover {\n",
              "      background-color: #E2EBFA;\n",
              "      box-shadow: 0px 1px 2px rgba(60, 64, 67, 0.3), 0px 1px 3px 1px rgba(60, 64, 67, 0.15);\n",
              "      fill: #174EA6;\n",
              "    }\n",
              "\n",
              "    [theme=dark] .colab-df-convert {\n",
              "      background-color: #3B4455;\n",
              "      fill: #D2E3FC;\n",
              "    }\n",
              "\n",
              "    [theme=dark] .colab-df-convert:hover {\n",
              "      background-color: #434B5C;\n",
              "      box-shadow: 0px 1px 3px 1px rgba(0, 0, 0, 0.15);\n",
              "      filter: drop-shadow(0px 1px 2px rgba(0, 0, 0, 0.3));\n",
              "      fill: #FFFFFF;\n",
              "    }\n",
              "  </style>\n",
              "\n",
              "      <script>\n",
              "        const buttonEl =\n",
              "          document.querySelector('#df-171ab450-733d-442e-9b54-d75886fcea22 button.colab-df-convert');\n",
              "        buttonEl.style.display =\n",
              "          google.colab.kernel.accessAllowed ? 'block' : 'none';\n",
              "\n",
              "        async function convertToInteractive(key) {\n",
              "          const element = document.querySelector('#df-171ab450-733d-442e-9b54-d75886fcea22');\n",
              "          const dataTable =\n",
              "            await google.colab.kernel.invokeFunction('convertToInteractive',\n",
              "                                                     [key], {});\n",
              "          if (!dataTable) return;\n",
              "\n",
              "          const docLinkHtml = 'Like what you see? Visit the ' +\n",
              "            '<a target=\"_blank\" href=https://colab.research.google.com/notebooks/data_table.ipynb>data table notebook</a>'\n",
              "            + ' to learn more about interactive tables.';\n",
              "          element.innerHTML = '';\n",
              "          dataTable['output_type'] = 'display_data';\n",
              "          await google.colab.output.renderOutput(dataTable, element);\n",
              "          const docLink = document.createElement('div');\n",
              "          docLink.innerHTML = docLinkHtml;\n",
              "          element.appendChild(docLink);\n",
              "        }\n",
              "      </script>\n",
              "    </div>\n",
              "  </div>\n",
              "  "
            ]
          },
          "metadata": {},
          "execution_count": 7
        }
      ]
    },
    {
      "cell_type": "code",
      "source": [
        "len(data)"
      ],
      "metadata": {
        "id": "mwLLmkq5wENg",
        "colab": {
          "base_uri": "https://localhost:8080/"
        },
        "outputId": "c84d521e-c2b6-4068-b2a0-46daf98bd420"
      },
      "execution_count": null,
      "outputs": [
        {
          "output_type": "execute_result",
          "data": {
            "text/plain": [
              "1258"
            ]
          },
          "metadata": {},
          "execution_count": 8
        }
      ]
    },
    {
      "cell_type": "code",
      "source": [
        "data.describe()"
      ],
      "metadata": {
        "id": "Yea2XTbhwKUJ",
        "colab": {
          "base_uri": "https://localhost:8080/",
          "height": 300
        },
        "outputId": "e762fc04-45a3-4ff0-86fb-5aaa9e9f7607"
      },
      "execution_count": null,
      "outputs": [
        {
          "output_type": "execute_result",
          "data": {
            "text/plain": [
              "              Open         High          Low        Close    Adj Close  \\\n",
              "count  1258.000000  1258.000000  1258.000000  1258.000000  1258.000000   \n",
              "mean     90.851332    91.917798    89.880775    90.917601    90.917601   \n",
              "std      30.148899    30.452321    29.823656    30.127701    30.127701   \n",
              "min      48.695000    50.176998    48.505501    48.811001    48.811001   \n",
              "25%      61.376625    61.938374    60.730124    61.269625    61.269625   \n",
              "50%      88.085251    88.996002    87.083000    88.155003    88.155003   \n",
              "75%     115.505749   117.148127   114.290003   115.469503   115.469503   \n",
              "max     151.863495   152.100006   149.887497   150.709000   150.709000   \n",
              "\n",
              "             Volume  \n",
              "count  1.258000e+03  \n",
              "mean   3.033558e+07  \n",
              "std    1.318003e+07  \n",
              "min    6.936000e+06  \n",
              "25%    2.197910e+07  \n",
              "50%    2.705125e+07  \n",
              "75%    3.418700e+07  \n",
              "max    1.241400e+08  "
            ],
            "text/html": [
              "\n",
              "  <div id=\"df-28d0afb9-0a71-40ff-a7fc-1f0b746e9044\">\n",
              "    <div class=\"colab-df-container\">\n",
              "      <div>\n",
              "<style scoped>\n",
              "    .dataframe tbody tr th:only-of-type {\n",
              "        vertical-align: middle;\n",
              "    }\n",
              "\n",
              "    .dataframe tbody tr th {\n",
              "        vertical-align: top;\n",
              "    }\n",
              "\n",
              "    .dataframe thead th {\n",
              "        text-align: right;\n",
              "    }\n",
              "</style>\n",
              "<table border=\"1\" class=\"dataframe\">\n",
              "  <thead>\n",
              "    <tr style=\"text-align: right;\">\n",
              "      <th></th>\n",
              "      <th>Open</th>\n",
              "      <th>High</th>\n",
              "      <th>Low</th>\n",
              "      <th>Close</th>\n",
              "      <th>Adj Close</th>\n",
              "      <th>Volume</th>\n",
              "    </tr>\n",
              "  </thead>\n",
              "  <tbody>\n",
              "    <tr>\n",
              "      <th>count</th>\n",
              "      <td>1258.000000</td>\n",
              "      <td>1258.000000</td>\n",
              "      <td>1258.000000</td>\n",
              "      <td>1258.000000</td>\n",
              "      <td>1258.000000</td>\n",
              "      <td>1.258000e+03</td>\n",
              "    </tr>\n",
              "    <tr>\n",
              "      <th>mean</th>\n",
              "      <td>90.851332</td>\n",
              "      <td>91.917798</td>\n",
              "      <td>89.880775</td>\n",
              "      <td>90.917601</td>\n",
              "      <td>90.917601</td>\n",
              "      <td>3.033558e+07</td>\n",
              "    </tr>\n",
              "    <tr>\n",
              "      <th>std</th>\n",
              "      <td>30.148899</td>\n",
              "      <td>30.452321</td>\n",
              "      <td>29.823656</td>\n",
              "      <td>30.127701</td>\n",
              "      <td>30.127701</td>\n",
              "      <td>1.318003e+07</td>\n",
              "    </tr>\n",
              "    <tr>\n",
              "      <th>min</th>\n",
              "      <td>48.695000</td>\n",
              "      <td>50.176998</td>\n",
              "      <td>48.505501</td>\n",
              "      <td>48.811001</td>\n",
              "      <td>48.811001</td>\n",
              "      <td>6.936000e+06</td>\n",
              "    </tr>\n",
              "    <tr>\n",
              "      <th>25%</th>\n",
              "      <td>61.376625</td>\n",
              "      <td>61.938374</td>\n",
              "      <td>60.730124</td>\n",
              "      <td>61.269625</td>\n",
              "      <td>61.269625</td>\n",
              "      <td>2.197910e+07</td>\n",
              "    </tr>\n",
              "    <tr>\n",
              "      <th>50%</th>\n",
              "      <td>88.085251</td>\n",
              "      <td>88.996002</td>\n",
              "      <td>87.083000</td>\n",
              "      <td>88.155003</td>\n",
              "      <td>88.155003</td>\n",
              "      <td>2.705125e+07</td>\n",
              "    </tr>\n",
              "    <tr>\n",
              "      <th>75%</th>\n",
              "      <td>115.505749</td>\n",
              "      <td>117.148127</td>\n",
              "      <td>114.290003</td>\n",
              "      <td>115.469503</td>\n",
              "      <td>115.469503</td>\n",
              "      <td>3.418700e+07</td>\n",
              "    </tr>\n",
              "    <tr>\n",
              "      <th>max</th>\n",
              "      <td>151.863495</td>\n",
              "      <td>152.100006</td>\n",
              "      <td>149.887497</td>\n",
              "      <td>150.709000</td>\n",
              "      <td>150.709000</td>\n",
              "      <td>1.241400e+08</td>\n",
              "    </tr>\n",
              "  </tbody>\n",
              "</table>\n",
              "</div>\n",
              "      <button class=\"colab-df-convert\" onclick=\"convertToInteractive('df-28d0afb9-0a71-40ff-a7fc-1f0b746e9044')\"\n",
              "              title=\"Convert this dataframe to an interactive table.\"\n",
              "              style=\"display:none;\">\n",
              "        \n",
              "  <svg xmlns=\"http://www.w3.org/2000/svg\" height=\"24px\"viewBox=\"0 0 24 24\"\n",
              "       width=\"24px\">\n",
              "    <path d=\"M0 0h24v24H0V0z\" fill=\"none\"/>\n",
              "    <path d=\"M18.56 5.44l.94 2.06.94-2.06 2.06-.94-2.06-.94-.94-2.06-.94 2.06-2.06.94zm-11 1L8.5 8.5l.94-2.06 2.06-.94-2.06-.94L8.5 2.5l-.94 2.06-2.06.94zm10 10l.94 2.06.94-2.06 2.06-.94-2.06-.94-.94-2.06-.94 2.06-2.06.94z\"/><path d=\"M17.41 7.96l-1.37-1.37c-.4-.4-.92-.59-1.43-.59-.52 0-1.04.2-1.43.59L10.3 9.45l-7.72 7.72c-.78.78-.78 2.05 0 2.83L4 21.41c.39.39.9.59 1.41.59.51 0 1.02-.2 1.41-.59l7.78-7.78 2.81-2.81c.8-.78.8-2.07 0-2.86zM5.41 20L4 18.59l7.72-7.72 1.47 1.35L5.41 20z\"/>\n",
              "  </svg>\n",
              "      </button>\n",
              "      \n",
              "  <style>\n",
              "    .colab-df-container {\n",
              "      display:flex;\n",
              "      flex-wrap:wrap;\n",
              "      gap: 12px;\n",
              "    }\n",
              "\n",
              "    .colab-df-convert {\n",
              "      background-color: #E8F0FE;\n",
              "      border: none;\n",
              "      border-radius: 50%;\n",
              "      cursor: pointer;\n",
              "      display: none;\n",
              "      fill: #1967D2;\n",
              "      height: 32px;\n",
              "      padding: 0 0 0 0;\n",
              "      width: 32px;\n",
              "    }\n",
              "\n",
              "    .colab-df-convert:hover {\n",
              "      background-color: #E2EBFA;\n",
              "      box-shadow: 0px 1px 2px rgba(60, 64, 67, 0.3), 0px 1px 3px 1px rgba(60, 64, 67, 0.15);\n",
              "      fill: #174EA6;\n",
              "    }\n",
              "\n",
              "    [theme=dark] .colab-df-convert {\n",
              "      background-color: #3B4455;\n",
              "      fill: #D2E3FC;\n",
              "    }\n",
              "\n",
              "    [theme=dark] .colab-df-convert:hover {\n",
              "      background-color: #434B5C;\n",
              "      box-shadow: 0px 1px 3px 1px rgba(0, 0, 0, 0.15);\n",
              "      filter: drop-shadow(0px 1px 2px rgba(0, 0, 0, 0.3));\n",
              "      fill: #FFFFFF;\n",
              "    }\n",
              "  </style>\n",
              "\n",
              "      <script>\n",
              "        const buttonEl =\n",
              "          document.querySelector('#df-28d0afb9-0a71-40ff-a7fc-1f0b746e9044 button.colab-df-convert');\n",
              "        buttonEl.style.display =\n",
              "          google.colab.kernel.accessAllowed ? 'block' : 'none';\n",
              "\n",
              "        async function convertToInteractive(key) {\n",
              "          const element = document.querySelector('#df-28d0afb9-0a71-40ff-a7fc-1f0b746e9044');\n",
              "          const dataTable =\n",
              "            await google.colab.kernel.invokeFunction('convertToInteractive',\n",
              "                                                     [key], {});\n",
              "          if (!dataTable) return;\n",
              "\n",
              "          const docLinkHtml = 'Like what you see? Visit the ' +\n",
              "            '<a target=\"_blank\" href=https://colab.research.google.com/notebooks/data_table.ipynb>data table notebook</a>'\n",
              "            + ' to learn more about interactive tables.';\n",
              "          element.innerHTML = '';\n",
              "          dataTable['output_type'] = 'display_data';\n",
              "          await google.colab.output.renderOutput(dataTable, element);\n",
              "          const docLink = document.createElement('div');\n",
              "          docLink.innerHTML = docLinkHtml;\n",
              "          element.appendChild(docLink);\n",
              "        }\n",
              "      </script>\n",
              "    </div>\n",
              "  </div>\n",
              "  "
            ]
          },
          "metadata": {},
          "execution_count": 9
        }
      ]
    },
    {
      "cell_type": "code",
      "source": [
        "opn = data[['Open']]"
      ],
      "metadata": {
        "id": "WyHVy6xYwOzQ"
      },
      "execution_count": null,
      "outputs": []
    },
    {
      "cell_type": "code",
      "source": [
        "opn.plot()"
      ],
      "metadata": {
        "id": "DSFMtb2swSew",
        "colab": {
          "base_uri": "https://localhost:8080/",
          "height": 439
        },
        "outputId": "b785094f-0d8e-4d80-aeb8-f4790eec616a"
      },
      "execution_count": null,
      "outputs": [
        {
          "output_type": "execute_result",
          "data": {
            "text/plain": [
              "<Axes: xlabel='Date'>"
            ]
          },
          "metadata": {},
          "execution_count": 11
        },
        {
          "output_type": "display_data",
          "data": {
            "text/plain": [
              "<Figure size 640x480 with 1 Axes>"
            ],
            "image/png": "[encoded data removed]"
          },
          "metadata": {}
        }
      ]
    },
    {
      "cell_type": "code",
      "source": [
        "ds = opn.values"
      ],
      "metadata": {
        "id": "SnbexlMDwXVu"
      },
      "execution_count": null,
      "outputs": []
    },
    {
      "cell_type": "code",
      "source": [
        "plt.plot(ds)"
      ],
      "metadata": {
        "id": "RA6mzN7SwfbF",
        "colab": {
          "base_uri": "https://localhost:8080/",
          "height": 447
        },
        "outputId": "3a073ef0-8de2-4873-d2d7-4d5593d9b8df"
      },
      "execution_count": null,
      "outputs": [
        {
          "output_type": "execute_result",
          "data": {
            "text/plain": [
              "[<matplotlib.lines.Line2D at 0x7f6806a70880>]"
            ]
          },
          "metadata": {},
          "execution_count": 13
        },
        {
          "output_type": "display_data",
          "data": {
            "text/plain": [
              "<Figure size 640x480 with 1 Axes>"
            ],
            "image/png": "[encoded data removed]"
          },
          "metadata": {}
        }
      ]
    },
    {
      "cell_type": "code",
      "source": [
        "#Using MinMaxScaler for normalizing data between 0 & 1\n",
        "normalizer = MinMaxScaler(feature_range=(0,1))\n",
        "ds_scaled = normalizer.fit_transform(np.array(ds).reshape(-1,1))"
      ],
      "metadata": {
        "id": "L33rGEJtwwIl"
      },
      "execution_count": null,
      "outputs": []
    },
    {
      "cell_type": "code",
      "source": [
        "len(ds_scaled), len(ds)"
      ],
      "metadata": {
        "colab": {
          "base_uri": "https://localhost:8080/"
        },
        "id": "Z19Xw1O8w0U4",
        "outputId": "23784d37-ccfb-4c32-b67d-fa12a8d8c3f0"
      },
      "execution_count": null,
      "outputs": [
        {
          "output_type": "execute_result",
          "data": {
            "text/plain": [
              "(1258, 1258)"
            ]
          },
          "metadata": {},
          "execution_count": 15
        }
      ]
    },
    {
      "cell_type": "code",
      "source": [
        "#Defining test and train data sizes\n",
        "train_size = int(len(ds_scaled)*0.70)\n",
        "test_size = len(ds_scaled) - train_size"
      ],
      "metadata": {
        "id": "wSnaLaCtw3_9"
      },
      "execution_count": null,
      "outputs": []
    },
    {
      "cell_type": "code",
      "source": [
        "train_size,test_size"
      ],
      "metadata": {
        "colab": {
          "base_uri": "https://localhost:8080/"
        },
        "id": "QNvdGYNzw-nM",
        "outputId": "487e7437-31b3-45ff-fd0e-6fdcdc8fd189"
      },
      "execution_count": null,
      "outputs": [
        {
          "output_type": "execute_result",
          "data": {
            "text/plain": [
              "(880, 378)"
            ]
          },
          "metadata": {},
          "execution_count": 17
        }
      ]
    },
    {
      "cell_type": "code",
      "source": [
        "#Splitting data between train and test\n",
        "ds_train, ds_test = ds_scaled[0:train_size,:], ds_scaled[train_size:len(ds_scaled),:1]"
      ],
      "metadata": {
        "id": "ZWD0r1g3xD66"
      },
      "execution_count": null,
      "outputs": []
    },
    {
      "cell_type": "code",
      "source": [
        "len(ds_train),len(ds_test)"
      ],
      "metadata": {
        "colab": {
          "base_uri": "https://localhost:8080/"
        },
        "id": "tvq2l3dZxLLv",
        "outputId": "5e96a851-ae73-4f20-e971-abbe6eedd295"
      },
      "execution_count": null,
      "outputs": [
        {
          "output_type": "execute_result",
          "data": {
            "text/plain": [
              "(880, 378)"
            ]
          },
          "metadata": {},
          "execution_count": 19
        }
      ]
    },
    {
      "cell_type": "code",
      "source": [
        "#creating dataset in time series for LSTM model\n",
        "#X[100,120,140,160,180] : Y[200]\n",
        "def create_ds(dataset,step):\n",
        "    Xtrain, Ytrain = [], []\n",
        "    for i in range(len(dataset)-step-1):\n",
        "        a = dataset[i:(i+step), 0]\n",
        "        Xtrain.append(a)\n",
        "        Ytrain.append(dataset[i + step, 0])\n",
        "    return np.array(Xtrain), np.array(Ytrain)"
      ],
      "metadata": {
        "id": "xKs5LKNOxQWs"
      },
      "execution_count": null,
      "outputs": []
    },
    {
      "cell_type": "code",
      "source": [
        "#Taking 100 days price as one record for training\n",
        "time_stamp = 100\n",
        "X_train, y_train = create_ds(ds_train,time_stamp)\n",
        "X_test, y_test = create_ds(ds_test,time_stamp)"
      ],
      "metadata": {
        "id": "nL9JDlIhxUcx"
      },
      "execution_count": null,
      "outputs": []
    },
    {
      "cell_type": "code",
      "source": [
        "X_train.shape,y_train.shape"
      ],
      "metadata": {
        "colab": {
          "base_uri": "https://localhost:8080/"
        },
        "id": "IE74PSTWxZBj",
        "outputId": "d158b48f-6724-4a1b-ac90-7f6b5a6249ae"
      },
      "execution_count": null,
      "outputs": [
        {
          "output_type": "execute_result",
          "data": {
            "text/plain": [
              "((779, 100), (779,))"
            ]
          },
          "metadata": {},
          "execution_count": 22
        }
      ]
    },
    {
      "cell_type": "code",
      "source": [
        "X_test.shape, y_test.shape"
      ],
      "metadata": {
        "colab": {
          "base_uri": "https://localhost:8080/"
        },
        "id": "2dVrjRIYxd2S",
        "outputId": "45fdd8e9-a421-4d2d-cf6b-fc062a311fb2"
      },
      "execution_count": null,
      "outputs": [
        {
          "output_type": "execute_result",
          "data": {
            "text/plain": [
              "((277, 100), (277,))"
            ]
          },
          "metadata": {},
          "execution_count": 23
        }
      ]
    },
    {
      "cell_type": "code",
      "source": [
        "#Reshaping data to fit into LSTM model\n",
        "X_train = X_train.reshape(X_train.shape[0],X_train.shape[1] , 1)\n",
        "X_test = X_test.reshape(X_test.shape[0],X_test.shape[1] , 1)"
      ],
      "metadata": {
        "id": "D3Qkmrt-xkpP"
      },
      "execution_count": null,
      "outputs": []
    },
    {
      "cell_type": "code",
      "source": [
        "from keras.models import Sequential\n",
        "from keras.layers import Dense, LSTM"
      ],
      "metadata": {
        "id": "sZF-auL4xqkL"
      },
      "execution_count": null,
      "outputs": []
    },
    {
      "cell_type": "code",
      "source": [
        "#Creating LSTM model using keras\n",
        "model = Sequential()\n",
        "model.add(LSTM(units=50,return_sequences=True,input_shape=(X_train.shape[1],1)))\n",
        "model.add(LSTM(units=50,return_sequences=True))\n",
        "model.add(LSTM(units=50))\n",
        "model.add(Dense(units=1,activation='linear'))\n",
        "model.summary()"
      ],
      "metadata": {
        "colab": {
          "base_uri": "https://localhost:8080/"
        },
        "id": "yc1ZUE1Pxv2C",
        "outputId": "5b830667-cb04-40bf-c4fe-2a7b719c9f6c"
      },
      "execution_count": null,
      "outputs": [
        {
          "output_type": "stream",
          "name": "stdout",
          "text": [
            "Model: \"sequential\"\n",
            "_________________________________________________________________\n",
            " Layer (type)                Output Shape              Param #   \n",
            "=================================================================\n",
            " lstm (LSTM)                 (None, 100, 50)           10400     \n",
            "                                                                 \n",
            " lstm_1 (LSTM)               (None, 100, 50)           20200     \n",
            "                                                                 \n",
            " lstm_2 (LSTM)               (None, 50)                20200     \n",
            "                                                                 \n",
            " dense (Dense)               (None, 1)                 51        \n",
            "                                                                 \n",
            "=================================================================\n",
            "Total params: 50,851\n",
            "Trainable params: 50,851\n",
            "Non-trainable params: 0\n",
            "_________________________________________________________________\n"
          ]
        }
      ]
    },
    {
      "cell_type": "code",
      "source": [
        "#Training model with adam optimizer and mean squared error loss function\n",
        "model.compile(loss='mean_squared_error',optimizer='adam')\n",
        "model.fit(X_train,y_train,validation_data=(X_test,y_test),epochs=100,batch_size=64)"
      ],
      "metadata": {
        "colab": {
          "base_uri": "https://localhost:8080/"
        },
        "id": "vtP6D5pAx1U0",
        "outputId": "24e5a7bf-4eb1-4e54-b5b1-eea46ae57d57"
      },
      "execution_count": null,
      "outputs": [
        {
          "output_type": "stream",
          "name": "stdout",
          "text": [
            "Epoch 1/100\n",
            "13/13 [==============================] - 11s 326ms/step - loss: 0.0616 - val_loss: 0.0182\n",
            "Epoch 2/100\n",
            "13/13 [==============================] - 4s 286ms/step - loss: 0.0095 - val_loss: 0.0084\n",
            "Epoch 3/100\n",
            "13/13 [==============================] - 3s 202ms/step - loss: 0.0024 - val_loss: 0.0107\n",
            "Epoch 4/100\n",
            "13/13 [==============================] - 3s 208ms/step - loss: 0.0018 - val_loss: 0.0076\n",
            "Epoch 5/100\n",
            "13/13 [==============================] - 3s 210ms/step - loss: 0.0016 - val_loss: 0.0063\n",
            "Epoch 6/100\n",
            "13/13 [==============================] - 3s 237ms/step - loss: 0.0015 - val_loss: 0.0052\n",
            "Epoch 7/100\n",
            "13/13 [==============================] - 3s 252ms/step - loss: 0.0013 - val_loss: 0.0043\n",
            "Epoch 8/100\n",
            "13/13 [==============================] - 2s 193ms/step - loss: 0.0013 - val_loss: 0.0043\n",
            "Epoch 9/100\n",
            "13/13 [==============================] - 3s 212ms/step - loss: 0.0013 - val_loss: 0.0043\n",
            "Epoch 10/100\n",
            "13/13 [==============================] - 3s 194ms/step - loss: 0.0013 - val_loss: 0.0048\n",
            "Epoch 11/100\n",
            "13/13 [==============================] - 4s 282ms/step - loss: 0.0013 - val_loss: 0.0049\n",
            "Epoch 12/100\n",
            "13/13 [==============================] - 2s 188ms/step - loss: 0.0013 - val_loss: 0.0058\n",
            "Epoch 13/100\n",
            "13/13 [==============================] - 2s 185ms/step - loss: 0.0013 - val_loss: 0.0055\n",
            "Epoch 14/100\n",
            "13/13 [==============================] - 2s 185ms/step - loss: 0.0013 - val_loss: 0.0055\n",
            "Epoch 15/100\n",
            "13/13 [==============================] - 2s 186ms/step - loss: 0.0013 - val_loss: 0.0041\n",
            "Epoch 16/100\n",
            "13/13 [==============================] - 4s 288ms/step - loss: 0.0012 - val_loss: 0.0035\n",
            "Epoch 17/100\n",
            "13/13 [==============================] - 3s 201ms/step - loss: 0.0013 - val_loss: 0.0041\n",
            "Epoch 18/100\n",
            "13/13 [==============================] - 2s 185ms/step - loss: 0.0012 - val_loss: 0.0038\n",
            "Epoch 19/100\n",
            "13/13 [==============================] - 3s 261ms/step - loss: 0.0012 - val_loss: 0.0042\n",
            "Epoch 20/100\n",
            "13/13 [==============================] - 4s 301ms/step - loss: 0.0012 - val_loss: 0.0035\n",
            "Epoch 21/100\n",
            "13/13 [==============================] - 3s 196ms/step - loss: 0.0012 - val_loss: 0.0051\n",
            "Epoch 22/100\n",
            "13/13 [==============================] - 2s 191ms/step - loss: 0.0012 - val_loss: 0.0033\n",
            "Epoch 23/100\n",
            "13/13 [==============================] - 2s 192ms/step - loss: 0.0012 - val_loss: 0.0046\n",
            "Epoch 24/100\n",
            "13/13 [==============================] - 2s 187ms/step - loss: 0.0011 - val_loss: 0.0032\n",
            "Epoch 25/100\n",
            "13/13 [==============================] - 4s 275ms/step - loss: 0.0011 - val_loss: 0.0043\n",
            "Epoch 26/100\n",
            "13/13 [==============================] - 2s 190ms/step - loss: 0.0012 - val_loss: 0.0033\n",
            "Epoch 27/100\n",
            "13/13 [==============================] - 2s 189ms/step - loss: 0.0013 - val_loss: 0.0030\n",
            "Epoch 28/100\n",
            "13/13 [==============================] - 2s 186ms/step - loss: 0.0012 - val_loss: 0.0050\n",
            "Epoch 29/100\n",
            "13/13 [==============================] - 3s 258ms/step - loss: 0.0011 - val_loss: 0.0037\n",
            "Epoch 30/100\n",
            "13/13 [==============================] - 3s 217ms/step - loss: 0.0010 - val_loss: 0.0029\n",
            "Epoch 31/100\n",
            "13/13 [==============================] - 2s 183ms/step - loss: 0.0010 - val_loss: 0.0036\n",
            "Epoch 32/100\n",
            "13/13 [==============================] - 2s 185ms/step - loss: 9.6416e-04 - val_loss: 0.0030\n",
            "Epoch 33/100\n",
            "13/13 [==============================] - 2s 186ms/step - loss: 9.7106e-04 - val_loss: 0.0034\n",
            "Epoch 34/100\n",
            "13/13 [==============================] - 3s 261ms/step - loss: 0.0010 - val_loss: 0.0031\n",
            "Epoch 35/100\n",
            "13/13 [==============================] - 3s 186ms/step - loss: 9.9190e-04 - val_loss: 0.0025\n",
            "Epoch 36/100\n",
            "13/13 [==============================] - 2s 192ms/step - loss: 9.8144e-04 - val_loss: 0.0033\n",
            "Epoch 37/100\n",
            "13/13 [==============================] - 2s 188ms/step - loss: 9.4906e-04 - val_loss: 0.0032\n",
            "Epoch 38/100\n",
            "13/13 [==============================] - 2s 183ms/step - loss: 8.9397e-04 - val_loss: 0.0024\n",
            "Epoch 39/100\n",
            "13/13 [==============================] - 4s 287ms/step - loss: 0.0010 - val_loss: 0.0035\n",
            "Epoch 40/100\n",
            "13/13 [==============================] - 2s 187ms/step - loss: 8.9115e-04 - val_loss: 0.0026\n",
            "Epoch 41/100\n",
            "13/13 [==============================] - 2s 189ms/step - loss: 8.1416e-04 - val_loss: 0.0024\n",
            "Epoch 42/100\n",
            "13/13 [==============================] - 3s 194ms/step - loss: 8.0066e-04 - val_loss: 0.0033\n",
            "Epoch 43/100\n",
            "13/13 [==============================] - 2s 190ms/step - loss: 8.0786e-04 - val_loss: 0.0024\n",
            "Epoch 44/100\n",
            "13/13 [==============================] - 3s 266ms/step - loss: 7.6319e-04 - val_loss: 0.0022\n",
            "Epoch 45/100\n",
            "13/13 [==============================] - 3s 196ms/step - loss: 7.6025e-04 - val_loss: 0.0023\n",
            "Epoch 46/100\n",
            "13/13 [==============================] - 2s 189ms/step - loss: 7.7750e-04 - val_loss: 0.0021\n",
            "Epoch 47/100\n",
            "13/13 [==============================] - 2s 191ms/step - loss: 7.1982e-04 - val_loss: 0.0021\n",
            "Epoch 48/100\n",
            "13/13 [==============================] - 3s 265ms/step - loss: 8.0253e-04 - val_loss: 0.0024\n",
            "Epoch 49/100\n",
            "13/13 [==============================] - 3s 205ms/step - loss: 7.0170e-04 - val_loss: 0.0028\n",
            "Epoch 50/100\n",
            "13/13 [==============================] - 2s 184ms/step - loss: 7.6428e-04 - val_loss: 0.0028\n",
            "Epoch 51/100\n",
            "13/13 [==============================] - 2s 184ms/step - loss: 6.8189e-04 - val_loss: 0.0030\n",
            "Epoch 52/100\n",
            "13/13 [==============================] - 2s 184ms/step - loss: 7.3188e-04 - val_loss: 0.0025\n",
            "Epoch 53/100\n",
            "13/13 [==============================] - 4s 284ms/step - loss: 7.1398e-04 - val_loss: 0.0021\n",
            "Epoch 54/100\n",
            "13/13 [==============================] - 2s 185ms/step - loss: 7.5209e-04 - val_loss: 0.0021\n",
            "Epoch 55/100\n",
            "13/13 [==============================] - 2s 184ms/step - loss: 8.0508e-04 - val_loss: 0.0025\n",
            "Epoch 56/100\n",
            "13/13 [==============================] - 2s 182ms/step - loss: 6.6199e-04 - val_loss: 0.0037\n",
            "Epoch 57/100\n",
            "13/13 [==============================] - 2s 185ms/step - loss: 6.9796e-04 - val_loss: 0.0028\n",
            "Epoch 58/100\n",
            "13/13 [==============================] - 3s 277ms/step - loss: 6.6657e-04 - val_loss: 0.0032\n",
            "Epoch 59/100\n",
            "13/13 [==============================] - 2s 184ms/step - loss: 7.4843e-04 - val_loss: 0.0047\n",
            "Epoch 60/100\n",
            "13/13 [==============================] - 2s 184ms/step - loss: 7.9137e-04 - val_loss: 0.0031\n",
            "Epoch 61/100\n",
            "13/13 [==============================] - 2s 187ms/step - loss: 6.2915e-04 - val_loss: 0.0024\n",
            "Epoch 62/100\n",
            "13/13 [==============================] - 2s 185ms/step - loss: 6.4383e-04 - val_loss: 0.0027\n",
            "Epoch 63/100\n",
            "13/13 [==============================] - 3s 271ms/step - loss: 7.2339e-04 - val_loss: 0.0038\n",
            "Epoch 64/100\n",
            "13/13 [==============================] - 2s 183ms/step - loss: 6.3838e-04 - val_loss: 0.0031\n",
            "Epoch 65/100\n",
            "13/13 [==============================] - 2s 184ms/step - loss: 6.1171e-04 - val_loss: 0.0024\n",
            "Epoch 66/100\n",
            "13/13 [==============================] - 2s 187ms/step - loss: 6.7871e-04 - val_loss: 0.0046\n",
            "Epoch 67/100\n",
            "13/13 [==============================] - 3s 197ms/step - loss: 6.5818e-04 - val_loss: 0.0021\n",
            "Epoch 68/100\n",
            "13/13 [==============================] - 3s 255ms/step - loss: 6.3630e-04 - val_loss: 0.0041\n",
            "Epoch 69/100\n",
            "13/13 [==============================] - 2s 188ms/step - loss: 6.5855e-04 - val_loss: 0.0029\n",
            "Epoch 70/100\n",
            "13/13 [==============================] - 2s 188ms/step - loss: 6.1490e-04 - val_loss: 0.0044\n",
            "Epoch 71/100\n",
            "13/13 [==============================] - 2s 184ms/step - loss: 7.3849e-04 - val_loss: 0.0039\n",
            "Epoch 72/100\n",
            "13/13 [==============================] - 3s 224ms/step - loss: 6.7846e-04 - val_loss: 0.0025\n",
            "Epoch 73/100\n",
            "13/13 [==============================] - 3s 226ms/step - loss: 6.0464e-04 - val_loss: 0.0032\n",
            "Epoch 74/100\n",
            "13/13 [==============================] - 2s 190ms/step - loss: 5.8568e-04 - val_loss: 0.0028\n",
            "Epoch 75/100\n",
            "13/13 [==============================] - 2s 187ms/step - loss: 5.7879e-04 - val_loss: 0.0030\n",
            "Epoch 76/100\n",
            "13/13 [==============================] - 2s 187ms/step - loss: 6.0465e-04 - val_loss: 0.0038\n",
            "Epoch 77/100\n",
            "13/13 [==============================] - 3s 255ms/step - loss: 5.9132e-04 - val_loss: 0.0038\n",
            "Epoch 78/100\n",
            "13/13 [==============================] - 3s 198ms/step - loss: 5.9791e-04 - val_loss: 0.0040\n",
            "Epoch 79/100\n",
            "13/13 [==============================] - 2s 185ms/step - loss: 6.3400e-04 - val_loss: 0.0032\n",
            "Epoch 80/100\n",
            "13/13 [==============================] - 2s 186ms/step - loss: 5.9110e-04 - val_loss: 0.0034\n",
            "Epoch 81/100\n",
            "13/13 [==============================] - 2s 191ms/step - loss: 5.9095e-04 - val_loss: 0.0027\n",
            "Epoch 82/100\n",
            "13/13 [==============================] - 3s 277ms/step - loss: 5.6580e-04 - val_loss: 0.0033\n",
            "Epoch 83/100\n",
            "13/13 [==============================] - 2s 186ms/step - loss: 5.7792e-04 - val_loss: 0.0035\n",
            "Epoch 84/100\n",
            "13/13 [==============================] - 2s 185ms/step - loss: 6.9962e-04 - val_loss: 0.0028\n",
            "Epoch 85/100\n",
            "13/13 [==============================] - 2s 188ms/step - loss: 5.5032e-04 - val_loss: 0.0038\n",
            "Epoch 86/100\n",
            "13/13 [==============================] - 2s 184ms/step - loss: 5.4638e-04 - val_loss: 0.0030\n",
            "Epoch 87/100\n",
            "13/13 [==============================] - 4s 280ms/step - loss: 5.4568e-04 - val_loss: 0.0029\n",
            "Epoch 88/100\n",
            "13/13 [==============================] - 2s 187ms/step - loss: 5.5186e-04 - val_loss: 0.0029\n",
            "Epoch 89/100\n",
            "13/13 [==============================] - 2s 188ms/step - loss: 7.3832e-04 - val_loss: 0.0038\n",
            "Epoch 90/100\n",
            "13/13 [==============================] - 2s 189ms/step - loss: 6.0494e-04 - val_loss: 0.0040\n",
            "Epoch 91/100\n",
            "13/13 [==============================] - 3s 196ms/step - loss: 5.8648e-04 - val_loss: 0.0027\n",
            "Epoch 92/100\n",
            "13/13 [==============================] - 3s 258ms/step - loss: 5.8579e-04 - val_loss: 0.0024\n",
            "Epoch 93/100\n",
            "13/13 [==============================] - 2s 191ms/step - loss: 5.7304e-04 - val_loss: 0.0033\n",
            "Epoch 94/100\n",
            "13/13 [==============================] - 2s 186ms/step - loss: 5.2458e-04 - val_loss: 0.0049\n",
            "Epoch 95/100\n",
            "13/13 [==============================] - 2s 185ms/step - loss: 5.9292e-04 - val_loss: 0.0038\n",
            "Epoch 96/100\n",
            "13/13 [==============================] - 3s 220ms/step - loss: 6.5960e-04 - val_loss: 0.0029\n",
            "Epoch 97/100\n",
            "13/13 [==============================] - 3s 229ms/step - loss: 6.0194e-04 - val_loss: 0.0040\n",
            "Epoch 98/100\n",
            "13/13 [==============================] - 2s 187ms/step - loss: 5.5289e-04 - val_loss: 0.0050\n",
            "Epoch 99/100\n",
            "13/13 [==============================] - 2s 190ms/step - loss: 5.6328e-04 - val_loss: 0.0039\n",
            "Epoch 100/100\n",
            "13/13 [==============================] - 2s 191ms/step - loss: 5.1427e-04 - val_loss: 0.0035\n"
          ]
        },
        {
          "output_type": "execute_result",
          "data": {
            "text/plain": [
              "<keras.callbacks.History at 0x7f67f7e37f70>"
            ]
          },
          "metadata": {},
          "execution_count": 27
        }
      ]
    },
    {
      "cell_type": "code",
      "source": [
        "#PLotting loss, it shows that loss has decreased significantly and model trained well\n",
        "loss = model.history.history['loss']\n",
        "plt.plot(loss)"
      ],
      "metadata": {
        "id": "Md3TbDkezH19",
        "colab": {
          "base_uri": "https://localhost:8080/",
          "height": 447
        },
        "outputId": "fdb3eb9a-07be-406c-c96c-034266e38710"
      },
      "execution_count": null,
      "outputs": [
        {
          "output_type": "execute_result",
          "data": {
            "text/plain": [
              "[<matplotlib.lines.Line2D at 0x7f67f35415a0>]"
            ]
          },
          "metadata": {},
          "execution_count": 28
        },
        {
          "output_type": "display_data",
          "data": {
            "text/plain": [
              "<Figure size 640x480 with 1 Axes>"
            ],
            "image/png": "[encoded data removed]"
          },
          "metadata": {}
        }
      ]
    },
    {
      "cell_type": "code",
      "source": [
        "#Predicitng on train and test data\n",
        "train_predict = model.predict(X_train)\n",
        "test_predict = model.predict(X_test)"
      ],
      "metadata": {
        "id": "skkp5CfJzNog",
        "colab": {
          "base_uri": "https://localhost:8080/"
        },
        "outputId": "c73ea0a1-4ea5-40e7-e00b-274a8927d265"
      },
      "execution_count": null,
      "outputs": [
        {
          "output_type": "stream",
          "name": "stdout",
          "text": [
            "25/25 [==============================] - 2s 38ms/step\n",
            "9/9 [==============================] - 0s 37ms/step\n"
          ]
        }
      ]
    },
    {
      "cell_type": "code",
      "source": [
        "#Inverse transform to get actual value\n",
        "train_predict = normalizer.inverse_transform(train_predict)\n",
        "test_predict = normalizer.inverse_transform(test_predict)"
      ],
      "metadata": {
        "id": "UE0BQ1EezWlO"
      },
      "execution_count": null,
      "outputs": []
    },
    {
      "cell_type": "code",
      "source": [
        "#Comparing using visuals\n",
        "plt.plot(normalizer.inverse_transform(ds_scaled))\n",
        "plt.plot(train_predict)\n",
        "plt.plot(test_predict)"
      ],
      "metadata": {
        "id": "b6imDk3uzff3",
        "colab": {
          "base_uri": "https://localhost:8080/",
          "height": 447
        },
        "outputId": "445b3a5a-72a0-43d7-a420-55b790878b06"
      },
      "execution_count": null,
      "outputs": [
        {
          "output_type": "execute_result",
          "data": {
            "text/plain": [
              "[<matplotlib.lines.Line2D at 0x7f680471ea10>]"
            ]
          },
          "metadata": {},
          "execution_count": 31
        },
        {
          "output_type": "display_data",
          "data": {
            "text/plain": [
              "<Figure size 640x480 with 1 Axes>"
            ],
            "image/png": "[encoded data removed]"
          },
          "metadata": {}
        }
      ]
    },
    {
      "cell_type": "code",
      "source": [
        "type(train_predict)"
      ],
      "metadata": {
        "id": "hUVcNQSezpuV",
        "colab": {
          "base_uri": "https://localhost:8080/"
        },
        "outputId": "7c094bac-6ef2-440f-f7a0-35d27006ebf4"
      },
      "execution_count": null,
      "outputs": [
        {
          "output_type": "execute_result",
          "data": {
            "text/plain": [
              "numpy.ndarray"
            ]
          },
          "metadata": {},
          "execution_count": 32
        }
      ]
    },
    {
      "cell_type": "code",
      "source": [
        "test = np.vstack((train_predict,test_predict))"
      ],
      "metadata": {
        "id": "-nE-TSOoztw_"
      },
      "execution_count": null,
      "outputs": []
    },
    {
      "cell_type": "code",
      "source": [
        "#Combining the predited data to create uniform data visualization\n",
        "plt.plot(normalizer.inverse_transform(ds_scaled))\n",
        "plt.plot(test)"
      ],
      "metadata": {
        "id": "yxNLVBm5zx8J",
        "colab": {
          "base_uri": "https://localhost:8080/",
          "height": 447
        },
        "outputId": "8e00203a-1fee-4d5e-f1c9-6936b8d19435"
      },
      "execution_count": null,
      "outputs": [
        {
          "output_type": "execute_result",
          "data": {
            "text/plain": [
              "[<matplotlib.lines.Line2D at 0x7f68047af5e0>]"
            ]
          },
          "metadata": {},
          "execution_count": 34
        },
        {
          "output_type": "display_data",
          "data": {
            "text/plain": [
              "<Figure size 640x480 with 1 Axes>"
            ],
            "image/png": "[encoded data removed]"
          },
          "metadata": {}
        }
      ]
    },
    {
      "cell_type": "code",
      "source": [
        "len(ds_test)"
      ],
      "metadata": {
        "id": "e8cT4AK9z4Up",
        "colab": {
          "base_uri": "https://localhost:8080/"
        },
        "outputId": "7b4c4fda-77c5-40c1-d86e-a54ade5cdbc0"
      },
      "execution_count": null,
      "outputs": [
        {
          "output_type": "execute_result",
          "data": {
            "text/plain": [
              "378"
            ]
          },
          "metadata": {},
          "execution_count": 35
        }
      ]
    },
    {
      "cell_type": "code",
      "source": [
        "#Getting the last 100 days records\n",
        "fut_inp = ds_test[len(ds_test)-101:]"
      ],
      "metadata": {
        "id": "pHuJ_-ziz8Wk"
      },
      "execution_count": null,
      "outputs": []
    },
    {
      "cell_type": "code",
      "source": [
        "fut_inp = fut_inp.reshape(1,-1)"
      ],
      "metadata": {
        "id": "kAiSG7tM0GVT"
      },
      "execution_count": null,
      "outputs": []
    },
    {
      "cell_type": "code",
      "source": [
        "tmp_inp = list(fut_inp)"
      ],
      "metadata": {
        "id": "YKW1YM-30NAD"
      },
      "execution_count": null,
      "outputs": []
    },
    {
      "cell_type": "code",
      "source": [
        "fut_inp.shape"
      ],
      "metadata": {
        "id": "zf4omUYf0QkL",
        "colab": {
          "base_uri": "https://localhost:8080/"
        },
        "outputId": "8188a1a9-31b8-4ff5-97ef-d4b6f61e40f9"
      },
      "execution_count": null,
      "outputs": [
        {
          "output_type": "execute_result",
          "data": {
            "text/plain": [
              "(1, 101)"
            ]
          },
          "metadata": {},
          "execution_count": 39
        }
      ]
    },
    {
      "cell_type": "code",
      "source": [
        "#Creating list of the last 100 data\n",
        "tmp_inp = tmp_inp[0].tolist()"
      ],
      "metadata": {
        "id": "QUbHhiFT0UhC"
      },
      "execution_count": null,
      "outputs": []
    },
    {
      "cell_type": "code",
      "source": [
        "#Predicting next 30 days price suing the current data\n",
        "#It will predict in sliding window manner (algorithm) with stride 1\n",
        "lst_output=[]\n",
        "n_steps=100\n",
        "i=0\n",
        "while(i<30):\n",
        "\n",
        "    if(len(tmp_inp)>100):\n",
        "        fut_inp = np.array(tmp_inp[1:])\n",
        "        fut_inp=fut_inp.reshape(1,-1)\n",
        "        fut_inp = fut_inp.reshape((1, n_steps, 1))\n",
        "        yhat = model.predict(fut_inp, verbose=0)\n",
        "        tmp_inp.extend(yhat[0].tolist())\n",
        "        tmp_inp = tmp_inp[1:]\n",
        "        lst_output.extend(yhat.tolist())\n",
        "        i=i+1\n",
        "    else:\n",
        "        fut_inp = fut_inp.reshape((1, n_steps,1))\n",
        "        yhat = model.predict(fut_inp, verbose=0)\n",
        "        tmp_inp.extend(yhat[0].tolist())\n",
        "        lst_output.extend(yhat.tolist())\n",
        "        i=i+1\n",
        "print(lst_output)"
      ],
      "metadata": {
        "id": "3JlUEzOI0Zkl",
        "colab": {
          "base_uri": "https://localhost:8080/"
        },
        "outputId": "b039fbf2-7e33-4680-cbbe-8b36678d9a3f"
      },
      "execution_count": null,
      "outputs": [
        {
          "output_type": "stream",
          "name": "stdout",
          "text": [
            "[[0.7183648943901062], [0.7157962918281555], [0.7150953412055969], [0.7161937952041626], [0.7187899351119995], [0.7225517630577087], [0.7271936535835266], [0.7324935793876648], [0.7382786870002747], [0.7444202899932861], [0.7508149743080139], [0.7573732733726501], [0.7640166282653809], [0.7706711292266846], [0.7772657871246338], [0.7837328314781189], [0.7900142073631287], [0.7960522770881653], [0.8018002510070801], [0.8072174787521362], [0.8122738599777222], [0.8169434666633606], [0.8212137818336487], [0.8250803351402283], [0.8285475373268127], [0.8316255807876587], [0.8343338370323181], [0.8366962671279907], [0.8387375473976135], [0.8404940366744995]]\n"
          ]
        }
      ]
    },
    {
      "cell_type": "code",
      "source": [
        "len(ds_scaled)"
      ],
      "metadata": {
        "id": "EMd9kclZ0fRg",
        "colab": {
          "base_uri": "https://localhost:8080/"
        },
        "outputId": "cec2b5f6-e662-46d5-9ecc-41c660bd99c0"
      },
      "execution_count": null,
      "outputs": [
        {
          "output_type": "execute_result",
          "data": {
            "text/plain": [
              "1258"
            ]
          },
          "metadata": {},
          "execution_count": 42
        }
      ]
    },
    {
      "cell_type": "code",
      "source": [
        "#Creating a dummy plane to plot graph one after another\n",
        "plot_new=np.arange(1,101)\n",
        "plot_pred=np.arange(101,131)"
      ],
      "metadata": {
        "id": "zkTUZUtf0i6d"
      },
      "execution_count": null,
      "outputs": []
    },
    {
      "cell_type": "code",
      "source": [
        "plt.plot(plot_new, normalizer.inverse_transform(ds_scaled[len(ds_scaled)-100:]))\n",
        "plt.plot(plot_pred, normalizer.inverse_transform(lst_output))"
      ],
      "metadata": {
        "id": "X-Urczex0nPI",
        "colab": {
          "base_uri": "https://localhost:8080/",
          "height": 447
        },
        "outputId": "44c8c7ec-7b46-42fb-8a5f-34a34e31c620"
      },
      "execution_count": null,
      "outputs": [
        {
          "output_type": "execute_result",
          "data": {
            "text/plain": [
              "[<matplotlib.lines.Line2D at 0x7f68046876a0>]"
            ]
          },
          "metadata": {},
          "execution_count": 44
        },
        {
          "output_type": "display_data",
          "data": {
            "text/plain": [
              "<Figure size 640x480 with 1 Axes>"
            ],
            "image/png": "[encoded data removed]"
          },
          "metadata": {}
        }
      ]
    },
    {
      "cell_type": "code",
      "source": [
        "ds_new = ds_scaled.tolist()"
      ],
      "metadata": {
        "id": "0VbVRfDh1ARt"
      },
      "execution_count": null,
      "outputs": []
    },
    {
      "cell_type": "code",
      "source": [
        "len(ds_new)"
      ],
      "metadata": {
        "id": "AKeeIYxO1H_5",
        "colab": {
          "base_uri": "https://localhost:8080/"
        },
        "outputId": "b8cb64c3-a20a-4ac4-b268-c3dc8d715293"
      },
      "execution_count": null,
      "outputs": [
        {
          "output_type": "execute_result",
          "data": {
            "text/plain": [
              "1258"
            ]
          },
          "metadata": {},
          "execution_count": 46
        }
      ]
    },
    {
      "cell_type": "code",
      "source": [
        "#Entends helps us to fill the missing value with approx value\n",
        "ds_new.extend(lst_output)\n",
        "plt.plot(ds_new[len(ds_new)-32:])"
      ],
      "metadata": {
        "id": "iC5ghKUr1PmY",
        "colab": {
          "base_uri": "https://localhost:8080/",
          "height": 447
        },
        "outputId": "0e0e956b-4413-45fe-d61f-30f549a8bf57"
      },
      "execution_count": null,
      "outputs": [
        {
          "output_type": "execute_result",
          "data": {
            "text/plain": [
              "[<matplotlib.lines.Line2D at 0x7f6804549fc0>]"
            ]
          },
          "metadata": {},
          "execution_count": 47
        },
        {
          "output_type": "display_data",
          "data": {
            "text/plain": [
              "<Figure size 640x480 with 1 Axes>"
            ],
            "image/png": "[encoded data removed]"
          },
          "metadata": {}
        }
      ]
    },
    {
      "cell_type": "code",
      "source": [
        "#Creating final data for plotting\n",
        "final_graph = normalizer.inverse_transform(ds_new).tolist()"
      ],
      "metadata": {
        "id": "ctFr3Sga1cpz"
      },
      "execution_count": null,
      "outputs": []
    },
    {
      "cell_type": "code",
      "source": [
        "#Plotting final results with predicted value after 30 Days\n",
        "plt.plot(final_graph,)\n",
        "plt.ylabel(\"Price\")\n",
        "plt.xlabel(\"Time\")\n",
        "plt.title(\"{0} prediction of next month open\".format(stock_symbol))\n",
        "plt.axhline(y=final_graph[len(final_graph)-1], color = 'red', linestyle = ':', label = 'NEXT 30D: {0}'.format(round(float(*final_graph[len(final_graph)-1]),2)))\n",
        "plt.savefig(\"final.png\")\n",
        "plt.legend()"
      ],
      "metadata": {
        "id": "1Goo3c_k1gIH",
        "colab": {
          "base_uri": "https://localhost:8080/",
          "height": 489
        },
        "outputId": "fab35670-d4e7-43ac-fbc6-a431394feafc"
      },
      "execution_count": null,
      "outputs": [
        {
          "output_type": "execute_result",
          "data": {
            "text/plain": [
              "<matplotlib.legend.Legend at 0x7f680451f820>"
            ]
          },
          "metadata": {},
          "execution_count": 49
        },
        {
          "output_type": "display_data",
          "data": {
            "text/plain": [
              "<Figure size 640x480 with 1 Axes>"
            ],
            "image/png": "[encoded data removed]"
          },
          "metadata": {}
        }
      ]
    },
    {
      "cell_type": "code",
      "source": [
        "model.save(\"Stock.h5\")"
      ],
      "metadata": {
        "id": "KtDFuRUOnCtV"
      },
      "execution_count": null,
      "outputs": []
    },
    {
      "cell_type": "code",
      "source": [
        "import tensorflow as tf"
      ],
      "metadata": {
        "id": "U0PWIPKYndBC"
      },
      "execution_count": null,
      "outputs": []
    },
    {
      "cell_type": "code",
      "source": [
        "model_name = tf.keras.models.load_model(\"Stock.h5\")"
      ],
      "metadata": {
        "id": "0zyJT0-HnQ_A"
      },
      "execution_count": null,
      "outputs": []
    },
    {
      "cell_type": "code",
      "source": [
        "model_name.summary()"
      ],
      "metadata": {
        "id": "HdpkmBjInhgT",
        "colab": {
          "base_uri": "https://localhost:8080/"
        },
        "outputId": "86f7b66d-2fb8-4828-8d1e-9752295a8f1e"
      },
      "execution_count": null,
      "outputs": [
        {
          "output_type": "stream",
          "name": "stdout",
          "text": [
            "Model: \"sequential\"\n",
            "_________________________________________________________________\n",
            " Layer (type)                Output Shape              Param #   \n",
            "=================================================================\n",
            " lstm (LSTM)                 (None, 100, 50)           10400     \n",
            "                                                                 \n",
            " lstm_1 (LSTM)               (None, 100, 50)           20200     \n",
            "                                                                 \n",
            " lstm_2 (LSTM)               (None, 50)                20200     \n",
            "                                                                 \n",
            " dense (Dense)               (None, 1)                 51        \n",
            "                                                                 \n",
            "=================================================================\n",
            "Total params: 50,851\n",
            "Trainable params: 50,851\n",
            "Non-trainable params: 0\n",
            "_________________________________________________________________\n"
          ]
        }
      ]
    },
    {
      "cell_type": "code",
      "source": [
        "input = model.input"
      ],
      "metadata": {
        "id": "R0XvF3_Dn8VA"
      },
      "execution_count": null,
      "outputs": []
    },
    {
      "cell_type": "code",
      "source": [
        "import yfinance as yf\n",
        "\n",
        "ticker_symbol = \"AAPL\"  # Replace with your desired ticker symbol\n",
        "data = yf.download(ticker_symbol, start=\"2023-01-01\", end=\"2023-07-01\")\n"
      ],
      "metadata": {
        "colab": {
          "base_uri": "https://localhost:8080/"
        },
        "id": "b8f5UdFE6xxY",
        "outputId": "8887fb27-6aba-42b7-af6c-c7b0acbd7255"
      },
      "execution_count": null,
      "outputs": [
        {
          "output_type": "stream",
          "name": "stdout",
          "text": [
            "\r[*********************100%***********************]  1 of 1 completed\n"
          ]
        }
      ]
    },
    {
      "cell_type": "markdown",
      "source": [],
      "metadata": {
        "id": "tBPLBQ4sR7Iv"
      }
    }
  ]
}